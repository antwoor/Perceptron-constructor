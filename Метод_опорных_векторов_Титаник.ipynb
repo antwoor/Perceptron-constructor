{
  "nbformat": 4,
  "nbformat_minor": 0,
  "metadata": {
    "colab": {
      "provenance": [],
      "include_colab_link": true
    },
    "kernelspec": {
      "name": "python3",
      "display_name": "Python 3"
    },
    "language_info": {
      "name": "python"
    }
  },
  "cells": [
    {
      "cell_type": "markdown",
      "metadata": {
        "id": "view-in-github",
        "colab_type": "text"
      },
      "source": [
        "<a href=\"https://colab.research.google.com/github/antwoor/Perceptron-constructor/blob/main/%D0%9C%D0%B5%D1%82%D0%BE%D0%B4_%D0%BE%D0%BF%D0%BE%D1%80%D0%BD%D1%8B%D1%85_%D0%B2%D0%B5%D0%BA%D1%82%D0%BE%D1%80%D0%BE%D0%B2_%D0%A2%D0%B8%D1%82%D0%B0%D0%BD%D0%B8%D0%BA.ipynb\" target=\"_parent\"><img src=\"https://colab.research.google.com/assets/colab-badge.svg\" alt=\"Open In Colab\"/></a>"
      ]
    },
    {
      "cell_type": "markdown",
      "source": [
        "Ссылка, которая была прикреплена к заданию, почему-то неправильно считывалось с кодировкой UTF 8. Поэтому я скачал csv файл через ctrl+s, перейдя по ссылке и уже потом прикрепив файл к блокноту"
      ],
      "metadata": {
        "id": "1kcVhPCTN4sk"
      }
    },
    {
      "cell_type": "code",
      "source": [
        "import pandas as pd\n",
        "import numpy as np\n",
        "import matplotlib.pyplot as plt\n",
        "from sklearn import svm\n",
        "df = pd.read_csv('titanic.csv')\n",
        "# выберем целевую и обучающие колонки\n",
        "tg_col = ['Survived']\n",
        "train_col = ['Sex', 'Pclass', 'Age', 'Fare']\n",
        "df.columns\n"
      ],
      "metadata": {
        "id": "aAX_m6cBlRca"
      },
      "execution_count": null,
      "outputs": []
    },
    {
      "cell_type": "code",
      "source": [
        "# внесём их на систему координат\n",
        "X = df[train_col]\n",
        "Y = df[tg_col]"
      ],
      "metadata": {
        "id": "BVSq-8AOLJeu"
      },
      "execution_count": null,
      "outputs": []
    },
    {
      "cell_type": "code",
      "source": [
        "#проверяем интересующие ячейки на нули\n",
        "X['Sex'].isnull().sum()"
      ],
      "metadata": {
        "id": "DzcclOFdPs4r"
      },
      "execution_count": null,
      "outputs": []
    },
    {
      "cell_type": "code",
      "source": [
        "X['Pclass'].isnull().sum()"
      ],
      "metadata": {
        "id": "8YSWCRr_TA1F"
      },
      "execution_count": null,
      "outputs": []
    },
    {
      "cell_type": "code",
      "source": [
        "X['Fare'].isnull().sum()"
      ],
      "metadata": {
        "id": "FhC36SIKTHYr"
      },
      "execution_count": null,
      "outputs": []
    },
    {
      "cell_type": "code",
      "source": [
        "X['Age'].isnull().sum()"
      ],
      "metadata": {
        "id": "YVDytYMOTKc8"
      },
      "execution_count": null,
      "outputs": []
    },
    {
      "cell_type": "code",
      "source": [
        "#Заполним средними значениями пробелы\n",
        "X['Age'].fillna(X['Age'].mean(), inplace = True)"
      ],
      "metadata": {
        "id": "zMbT1avYTNZJ"
      },
      "execution_count": null,
      "outputs": []
    },
    {
      "cell_type": "code",
      "source": [
        "X['Age']"
      ],
      "metadata": {
        "id": "5qcWHRWDrdGk"
      },
      "execution_count": null,
      "outputs": []
    },
    {
      "cell_type": "code",
      "source": [
        "X['Age'].isnull().sum()"
      ],
      "metadata": {
        "id": "IOgkZcbk5i4e"
      },
      "execution_count": null,
      "outputs": []
    },
    {
      "cell_type": "code",
      "source": [
        "X['Sex']"
      ],
      "metadata": {
        "id": "c8ZKb8rWVqya"
      },
      "execution_count": null,
      "outputs": []
    },
    {
      "cell_type": "code",
      "source": [
        "MyStringIndexer={'male':0, 'female':1}\n",
        "X['Sex'] = X['Sex'].apply(lambda x:MyStringIndexer[x])"
      ],
      "metadata": {
        "id": "SETlow32T63w"
      },
      "execution_count": null,
      "outputs": []
    },
    {
      "cell_type": "code",
      "source": [
        "X['Sex']"
      ],
      "metadata": {
        "id": "6_rnWg6qVvTx"
      },
      "execution_count": null,
      "outputs": []
    },
    {
      "cell_type": "code",
      "source": [
        "from sklearn.model_selection import train_test_split\n",
        "X_train, X_test, Y_train, Y_test = train_test_split(X,Y, test_size=0.3, random_state=47)"
      ],
      "metadata": {
        "id": "BtRw-6T6vpw8"
      },
      "execution_count": null,
      "outputs": []
    },
    {
      "cell_type": "code",
      "source": [
        "prepmodel = svm.LinearSVC() #импортируем support vector machine"
      ],
      "metadata": {
        "id": "HPElp2K6W8NT"
      },
      "execution_count": null,
      "outputs": []
    },
    {
      "cell_type": "code",
      "source": [
        "X_train"
      ],
      "metadata": {
        "id": "0vcKlZJpy8lS"
      },
      "execution_count": null,
      "outputs": []
    },
    {
      "cell_type": "code",
      "source": [
        "Y_train"
      ],
      "metadata": {
        "id": "euGcHdETzuL0"
      },
      "execution_count": null,
      "outputs": []
    },
    {
      "cell_type": "code",
      "source": [
        "prepmodel.fit(X_train,Y_train)"
      ],
      "metadata": {
        "id": "QM3IrNDgvRa9"
      },
      "execution_count": null,
      "outputs": []
    },
    {
      "cell_type": "code",
      "source": [
        "prepmodel.predict(X_test)"
      ],
      "metadata": {
        "id": "g88Xb4nkw2t0"
      },
      "execution_count": null,
      "outputs": []
    },
    {
      "cell_type": "code",
      "source": [
        "prepmodel.score(X_test, Y_test)"
      ],
      "metadata": {
        "id": "q5CRZDsd6j6H"
      },
      "execution_count": null,
      "outputs": []
    },
    {
      "cell_type": "code",
      "source": [],
      "metadata": {
        "id": "mo4iudVeEGvg"
      },
      "execution_count": null,
      "outputs": []
    }
  ]
}